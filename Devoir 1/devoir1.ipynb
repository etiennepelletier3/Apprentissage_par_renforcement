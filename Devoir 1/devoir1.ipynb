{
 "cells": [
  {
   "attachments": {},
   "cell_type": "markdown",
   "metadata": {},
   "source": [
    "# Devoir 1"
   ]
  },
  {
   "cell_type": "code",
   "execution_count": 1,
   "metadata": {},
   "outputs": [],
   "source": [
    "import numpy"
   ]
  },
  {
   "attachments": {},
   "cell_type": "markdown",
   "metadata": {},
   "source": [
    "## Les bandits stochastiques"
   ]
  },
  {
   "attachments": {},
   "cell_type": "markdown",
   "metadata": {},
   "source": [
    "### [10 points] Les environnements de bandits stochastiques"
   ]
  },
  {
   "attachments": {},
   "cell_type": "markdown",
   "metadata": {},
   "source": [
    "#### Récompenses de distributions de Bernoulli"
   ]
  },
  {
   "attachments": {},
   "cell_type": "markdown",
   "metadata": {},
   "source": [
    "Complétez le code suivant pour implémenter un simulateur de bandit stochastique à $k$ actions avec récompenses générées par des distributions de Bernoulli. Votre classe doit recevoir en entrée les probabilités de succès de chaque action ainsi qu'un germe aléatoire permettant de fixer la réalisation de l'instance. La fonction _play_ doit échantillonner et retourner une récompense pour l'action demandée."
   ]
  },
  {
   "cell_type": "code",
   "execution_count": 2,
   "metadata": {},
   "outputs": [],
   "source": [
    "class BernoulliBandit:\n",
    "    \n",
    "    def __init__(self, probabilities, seed=None):\n",
    "        self.probabilities = probabilities\n",
    "        self.rng = numpy.random.default_rng(seed)\n",
    "\n",
    "    def play(self, action):\n",
    "        reward = self.rng.binomial(1, self.probabilities[action])\n",
    "        return reward"
   ]
  },
  {
   "attachments": {},
   "cell_type": "markdown",
   "metadata": {},
   "source": [
    "Générez une instance de votre environnement avec la configuration $\\boldsymbol \\mu = (0.7, 0.6, 0.5)$."
   ]
  },
  {
   "cell_type": "code",
   "execution_count": 3,
   "metadata": {},
   "outputs": [],
   "source": [
    "bandit_bernoulli = BernoulliBandit([0.7, 0.6, 0.5])"
   ]
  },
  {
   "attachments": {},
   "cell_type": "markdown",
   "metadata": {},
   "source": [
    "Montrez que votre environnement fonctionne en jouant 100 fois chaque action sur votre instance. Collectez les récompenses et présentez-les sous la forme d'une figure pour chaque action. Affichez la moyenne empirique pour chaque action."
   ]
  },
  {
   "cell_type": "code",
   "execution_count": 4,
   "metadata": {},
   "outputs": [
    {
     "data": {
      "image/png": "[encoded data removed]",
      "text/plain": [
       "<Figure size 640x480 with 1 Axes>"
      ]
     },
     "metadata": {},
     "output_type": "display_data"
    }
   ],
   "source": [
    "import matplotlib.pyplot as plt\n",
    "\n",
    "fig = plt.figure()\n",
    "ax = fig.add_subplot(111)\n",
    "\n",
    "rewards = [0, 0, 0]\n",
    "averages = [0, 0, 0]\n",
    "for i in range(3):\n",
    "    for j in range(100):\n",
    "        rewards[i] += bandit_bernoulli.play(i)\n",
    "    averages[i] = rewards[i] / 100\n",
    "\n",
    "for i, v in enumerate(averages):\n",
    "    ax.text(i, rewards[i] + 1, f'{v:.2f}', ha='center')\n",
    "\n",
    "ax.bar(['Action 1', 'Action 2', 'Action 3'], rewards)\n",
    "plt.xlabel('Actions')\n",
    "plt.ylabel('Récompense')\n",
    "plt.show()"
   ]
  },
  {
   "attachments": {},
   "cell_type": "markdown",
   "metadata": {},
   "source": [
    "#### Récompenses de distributions normales"
   ]
  },
  {
   "attachments": {},
   "cell_type": "markdown",
   "metadata": {},
   "source": [
    "Complétez le code suivant pour implémenter un simulateur de bandit stochastique à $k$ actions avec récompenses générées par des distributions normales. Votre classe doit recevoir en entrée l'espérance et la variance des récompenses pour chaque action, ainsi qu'un germe aléatoire permettant de fixer la réalisation de l'instance. La fonction _play_ doit échantillonner et retourner une récompense pour l'action demandée."
   ]
  },
  {
   "cell_type": "code",
   "execution_count": 5,
   "metadata": {},
   "outputs": [],
   "source": [
    "import math\n",
    "class NormalBandit(BernoulliBandit):\n",
    "    \n",
    "    def __init__(self, means, variances, seed=None):\n",
    "        self.means = means\n",
    "        self.variances = variances\n",
    "        self.rng = numpy.random.default_rng(seed)\n",
    "    \n",
    "    def play(self, action):\n",
    "        reward = self.rng.normal(self.means[action], math.sqrt(self.variances[action]))\n",
    "        return reward"
   ]
  },
  {
   "attachments": {},
   "cell_type": "markdown",
   "metadata": {},
   "source": [
    "Générez une instance de votre environnement avec la configuration $\\boldsymbol \\mu = (0.7, 0.6, 0.5)$ et une variance de récompenses $\\sigma^2 = 1$ pour toutes les actions."
   ]
  },
  {
   "cell_type": "code",
   "execution_count": 6,
   "metadata": {},
   "outputs": [],
   "source": [
    "bandit_normal = NormalBandit([0.7, 0.6, 0.5], [1, 1, 1])"
   ]
  },
  {
   "attachments": {},
   "cell_type": "markdown",
   "metadata": {},
   "source": [
    "Montrez que votre environnement fonctionne en jouant 100 fois chaque action sur votre instance. Collectez les récompenses et affichez la moyenne et la variance empiriques pour chaque action."
   ]
  },
  {
   "cell_type": "code",
   "execution_count": 7,
   "metadata": {},
   "outputs": [
    {
     "name": "stdout",
     "output_type": "stream",
     "text": [
      "Action 1: moyenne de 0.63 et variance de 1.17\n",
      "Action 2: moyenne de 0.71 et variance de 1.05\n",
      "Action 3: moyenne de 0.45 et variance de 1.09\n"
     ]
    }
   ],
   "source": [
    "for i in range(3):\n",
    "    rewards = []\n",
    "    for j in range(100):\n",
    "        reward = bandit_normal.play(i)\n",
    "        rewards.append(reward)\n",
    "    \n",
    "    moyenne = numpy.mean(rewards)\n",
    "    variance = numpy.var(rewards)\n",
    "    print(f'Action {i + 1}: moyenne de {moyenne:.2f} et variance de {variance:.2f}')"
   ]
  },
  {
   "attachments": {},
   "cell_type": "markdown",
   "metadata": {},
   "source": [
    "### [10 points] Explore-Then-Commit (ETC)"
   ]
  },
  {
   "attachments": {},
   "cell_type": "markdown",
   "metadata": {},
   "source": [
    "Complétez le code suivant pour implémenter la stratégie ETC. Votre fonction doit recevoir en entrée l'instance de bandit à aborder, la durée de l'horizon de temps $T$, ainsi que la durée $m$ de la phase exploratoire accordée pour chaque action."
   ]
  },
  {
   "cell_type": "code",
   "execution_count": 8,
   "metadata": {},
   "outputs": [],
   "source": [
    "def etc(bandit, T, m):\n",
    "    # initialisation\n",
    "    probabilities = bandit.probabilities # probabilités des actions\n",
    "    K = len(probabilities) # nombre d'actions\n",
    "    a_optim = numpy.argmax(probabilities) # action optimale\n",
    "    deltas = probabilities[a_optim] - probabilities # gaps de sous-optimalité\n",
    "    pseudo_regrets_cumulatif = [] # pseudo-regrets cumulatif\n",
    "    Na_t = numpy.zeros(K) # nombre de fois où chaque action a été jouée\n",
    "    Sa_t = numpy.zeros(K) # somme des récompenses obtenues pour chaque action\n",
    "    \n",
    "    # phase exploration - jouer m fois chaque action\n",
    "    for action in range(K):\n",
    "        for t in range(m):\n",
    "            Na_t[action] += 1 # incrémenter le nombre de fois où l'action a été jouée\n",
    "            reward = bandit.play(action) # jouer l'action\n",
    "            Sa_t[action] += reward # incrémenter la somme des récompenses obtenues pour l'action\n",
    "            # calcul du pseudo-regret cumulatif\n",
    "            pseudo_regret_t = numpy.dot(deltas.T, Na_t) # pseudo-regret instantanné ?\n",
    "            pseudo_regrets_cumulatif.append(pseudo_regret_t) \n",
    "\n",
    "    # phase exploitation - jouer l'action avec la meilleure moyenne\n",
    "    meilleure_action = numpy.argmax(Sa_t / Na_t) # sélectionner l'action avec la meilleure moyenne\n",
    "    for t in range(K*m, T): # jouer les T - K*m tours restants\n",
    "        Na_t[meilleure_action] += 1\n",
    "        reward = bandit.play(meilleure_action)\n",
    "        Sa_t[meilleure_action] += reward\n",
    "        # calcul du pseudo-regret cumulatif\n",
    "        pseudo_regret_t = numpy.dot(deltas.T, Na_t) # pseudo-regret instantanné ?\n",
    "        pseudo_regrets_cumulatif.append(pseudo_regret_t)\n",
    "    \n",
    "    pseudo_regret_cumulatif = numpy.array(pseudo_regrets_cumulatif) # convertir la liste en array numpy pour faciliter le moyennage\n",
    "    return Na_t, Sa_t, pseudo_regret_cumulatif\n",
    "\n"
   ]
  },
  {
   "attachments": {},
   "cell_type": "markdown",
   "metadata": {},
   "source": [
    "Considérez l'instance de bandits $\\boldsymbol \\mu = (0.7, 0.6, 0.5)$ avec récompenses générées par des distributions de Bernoulli. Appliquez la stratégie ETC sur $N=100$ réalisations de cette instance sur un horizon temporel $T = 2000$. Comparez ETC pour $m=50$ tirages exploratoires par action avec ETC pour $m$ optimal selon la théorie : $$m_\\text{optimal} = \\left\\lceil \\frac{4 \\sigma^2}{\\Delta_-^2} \\ln \\left( \\frac{T \\Delta_-^2}{4 \\sigma^2} \\right) \\right\\rceil \\quad \\text{avec } \\Delta_- = \\min_{a\\neq a_\\star} \\Delta_a$$\n",
    "\n",
    "Supposez que le gap de sous-optimalité minimal $\\Delta_-$ est connu.\n",
    "\n",
    "Présentez une figure montrant le pseudo-regret cumulatif moyenné sur les réalisations, avec un écart-type au-dessus, pour chaque configuration de la stratégie. Affichez le pourcentage des réalisations pour lesquelles chaque variante a pu exploiter l'action optimale."
   ]
  },
  {
   "cell_type": "code",
   "execution_count": 9,
   "metadata": {},
   "outputs": [
    {
     "data": {
      "image/png": "[encoded data removed]",
      "text/plain": [
       "<Figure size 1000x600 with 1 Axes>"
      ]
     },
     "metadata": {},
     "output_type": "display_data"
    },
    {
     "name": "stdout",
     "output_type": "stream",
     "text": [
      "ratio_exploitation_optimale_m50 = 0.86\n",
      "ratio_exploitation_optimale_m_optim = 1.0\n"
     ]
    }
   ],
   "source": [
    "# Initialisation de l'instance de la classe NormalBandit\n",
    "probabilities = numpy.array([0.7, 0.6, 0.5]) # probabilités des actions\n",
    "bandit = BernoulliBandit(probabilities) # initialisation du bandit selon la distribution de Bernoulli\n",
    "\n",
    "N = 100 # nombre de réalisations\n",
    "T = 2000 # horizon temporel\n",
    "m = 50 # nombre de tirages exploratoires pour chaque action\n",
    "\n",
    "# Calcul de m_optim\n",
    "a_optim = numpy.argmax(probabilities) # action optimale\n",
    "deltas = probabilities[a_optim] - probabilities # gaps de sous-optimalité\n",
    "delta_min = probabilities[a_optim] - max(numpy.delete(probabilities, a_optim)) # gap minimal\n",
    "sigma = 1/2 # car la distribution de bernoulli est sigma sous-gaussienne 1/2 ???\n",
    "m_optim = numpy.ceil((4 * (sigma)**2 / delta_min**2) * numpy.log(T * delta_min**2 / (4 * (sigma)**2))) # nombre de tirages exploratoires optimal\n",
    "\n",
    "# Pseudo-regret-cumulatif moyen pour m=50\n",
    "pseudo_regrets = numpy.zeros((N, T)) # initialisation des pseudo-regrets cumulatifs de chaque réalisation\n",
    "exploitation_optimale = 0 # nombre de fois où l'action optimale a été exploitée\n",
    "for i in range(N):\n",
    "    Na_t, Sa_t, pseudo_regret_cumulatif = etc(bandit, T, m) # réalisation i\n",
    "    pseudo_regrets[i, :] = pseudo_regret_cumulatif # sauvegarde du pseudo-regret cumulatif de la réalisation i\n",
    "    if numpy.argmax(Na_t) == a_optim: # si l'action optimale a été exploitée\n",
    "        exploitation_optimale += 1\n",
    "\n",
    "ratio_exploitation_optimale_m50 = exploitation_optimale / N # ratio d'exploitation optimale pour m=50\n",
    "pseudo_regrets_moyens_m50 = numpy.mean(pseudo_regrets, axis=0) # pseudo-regret cumulatif moyen pour m=50\n",
    "ecart_type_m50 = numpy.std(pseudo_regrets, axis=0) # écart-type du pseudo-regret cumulatif moyen pour m=50\n",
    "\n",
    "# Pseudo-regret-cumulatif moyen pour m optimal\n",
    "exploitation_optimale = 0\n",
    "for i in range(N):\n",
    "    Na_t, Sa_t, pseudo_regret_cumulatif = etc(bandit, T, int(m_optim)) \n",
    "    pseudo_regrets[i, :] = pseudo_regret_cumulatif\n",
    "    if numpy.argmax(Na_t) == a_optim:\n",
    "        exploitation_optimale += 1\n",
    "\n",
    "ratio_exploitation_optimale_m_optim = exploitation_optimale / N # ratio d'exploitation optimale pour m optimal\n",
    "pseudo_regrets_moyens_m_optim= numpy.mean(pseudo_regrets, axis=0) # pseudo-regret cumulatif moyen pour m optimal\n",
    "ecart_type_m_optim = numpy.std(pseudo_regrets, axis=0) # écart-type du pseudo-regret cumulatif moyen pour m optimal\n",
    "\n",
    "# Figure pseudo-regret cumulatif moyen\n",
    "plt.figure(figsize=(10, 6))\n",
    "plt.plot(pseudo_regrets_moyens_m50, label='m = 50')\n",
    "plt.fill_between(numpy.arange(T), pseudo_regrets_moyens_m50, pseudo_regrets_moyens_m50 + ecart_type_m50, alpha=0.2)\n",
    "plt.plot(pseudo_regrets_moyens_m_optim, label=f'm optimal = {int(m_optim)}')\n",
    "plt.fill_between(numpy.arange(T), pseudo_regrets_moyens_m_optim, pseudo_regrets_moyens_m_optim + ecart_type_m_optim, alpha=0.2)\n",
    "plt.xlabel('t')\n",
    "plt.ylabel('Pseudo-regret cumulatif moyen')\n",
    "plt.legend()\n",
    "plt.show()\n",
    "print(f'ratio_exploitation_optimale_m50 = {ratio_exploitation_optimale_m50}')\n",
    "print(f'ratio_exploitation_optimale_m_optim = {ratio_exploitation_optimale_m_optim}')"
   ]
  },
  {
   "attachments": {},
   "cell_type": "markdown",
   "metadata": {},
   "source": [
    "Expliquez les régimes observés sur les courbes ainsi que les différences entre les courbes. Supportez votre discussion à l'aide des taux de convergence à l'action optimale obtenus avec chaque valeur de $m$."
   ]
  },
  {
   "attachments": {},
   "cell_type": "markdown",
   "metadata": {},
   "source": [
    "La courbe en bleu (m = 50) effectue une phase d'exploration bien plus courte. Comme celle-ci commence plus vite à exploiter l'action qu'elle croit être la meilleure après seulement 150 actions, elle minimise son pseudo-regret cumulatif à court terme. Cependant, cette exploration trop brève ne lui permet pas de converger systématiquement vers l'action optimale. Cette absence de convergence est mise en évidence par la courbe de pseudo-regret cumulatif moyen, qui continue d'augmenter après la fin de la phase d'exploration.\n",
    "\n",
    "La courbe orange (m = 300), quant à elle, effectue une exploration bien plus approfondie, mais converge toujours vers l'action optimale après 900 actions effectuées. On peut voir sa courbe de pseudo-regret cumulatif moyen cesser d'augmenter immédiatement après la phase d'exploration."
   ]
  },
  {
   "attachments": {},
   "cell_type": "markdown",
   "metadata": {},
   "source": [
    "__[IFT-7201]__ Montrez comment obtenir l'équation de $m$ optimal sur un environnement à $k = 3$ actions."
   ]
  },
  {
   "attachments": {},
   "cell_type": "markdown",
   "metadata": {},
   "source": []
  },
  {
   "attachments": {},
   "cell_type": "markdown",
   "metadata": {},
   "source": [
    "### [10 points] $\\varepsilon$-greedy"
   ]
  },
  {
   "attachments": {},
   "cell_type": "markdown",
   "metadata": {},
   "source": [
    "Complétez le code suivant pour implémenter la stratégie $\\varepsilon$-greedy avec taux d'exploration $\\varepsilon$ fixe. Votre fonction doit recevoir en entrée l'instance de bandit à aborder, la durée de l'horizon de temps $T$, ainsi que le taux d'exploration $\\varepsilon$."
   ]
  },
  {
   "cell_type": "code",
   "execution_count": 10,
   "metadata": {},
   "outputs": [],
   "source": [
    "def egreedy(bandit, T, epsilon):\n",
    "    # Initialisation\n",
    "    rng = numpy.random.default_rng(0) # générateur de nombres aléatoires\n",
    "    probabilities = bandit.probabilities # probabilités de succès des actions\n",
    "    K = len(probabilities) # nombre d'actions\n",
    "    a_optim = numpy.argmax(probabilities) # action optimale\n",
    "    deltas = probabilities[a_optim] - probabilities # Gaps de sous-optimalité\n",
    "    pseudo_regret_cumulatif = [] # pseudo-regret cumulatif\n",
    "    Na_t = numpy.zeros(K) # nombre de fois où chaque action a été jouée\n",
    "    Sa_t = numpy.zeros(K) # Somme des récompenses obtenues pour chaque action\n",
    "    \n",
    "    # Jouer chaque action une fois\n",
    "    for action in range(K):\n",
    "        Na_t[action] += 1\n",
    "        reward = bandit.play(action)\n",
    "        Sa_t[action] += reward\n",
    "        # calcul du pseudo-regret cumulatif\n",
    "        pseudo_regret_t = numpy.dot(deltas.T, Na_t) # pseudo-regret instantanné ?\n",
    "        pseudo_regret_cumulatif.append(pseudo_regret_t)\n",
    "\n",
    "    # Exploration avec probabilité epsilon et exploitation avec probabilité 1 - epsilon\n",
    "    for t in range(K, T):\n",
    "        exploration = rng.binomial(1, epsilon)\n",
    "        if exploration:\n",
    "            action = rng.integers(0, K) # exploration - choisir une action aléatoire\n",
    "        else: \n",
    "            action = numpy.argmax(numpy.sum(Sa_t, axis=0) / numpy.sum(Na_t, axis=0)) # exploitation - choisir l'action avec la meilleure moyenne\n",
    "        \n",
    "        Na_t[action] += 1\n",
    "        reward = bandit.play(action)\n",
    "        Sa_t[action] += reward\n",
    "        # calcul du pseudo-regret cumulatif\n",
    "        pseudo_regret_t = numpy.dot(deltas.T, Na_t) # pseudo-regret instantanné ?\n",
    "        pseudo_regret_cumulatif.append(pseudo_regret_t)\n",
    "        \n",
    "    pseudo_regret_cumulatif = numpy.array(pseudo_regret_cumulatif) # convertir la liste en array numpy pour faciliter le moyennage\n",
    "    \n",
    "    return Na_t, Sa_t, pseudo_regret_cumulatif"
   ]
  },
  {
   "attachments": {},
   "cell_type": "markdown",
   "metadata": {},
   "source": [
    "Considérez l'instance de bandits $\\boldsymbol \\mu = (0.7, 0.6, 0.5)$ avec récompenses générées par des distributions de Bernoulli. Appliquez la stratégie $\\varepsilon$-greedy sur $N=100$ réalisations de cette instance sur un horizon temporel $T = 1000$. Comparez $\\varepsilon$-greedy pour $\\varepsilon \\in \\{0, 1/8, 1/4, 1/2, 1\\}$.\n",
    "\n",
    "Présentez une figure montrant le pseudo-regret cumulatif moyenné sur les réalisations, avec un écart-type au-dessus, pour chaque configuration de la stratégie. Affichez le nombre de fois en moyenne (avec un écart-type) où l'action optimale est sélectionnée sur l'instance considérée avec chaque configuration de la stratégie. "
   ]
  },
  {
   "cell_type": "code",
   "execution_count": 11,
   "metadata": {},
   "outputs": [
    {
     "name": "stdout",
     "output_type": "stream",
     "text": [
      "ε = 0: nombre moyen de jeux de l'action optimale = 998.00 ± 0.00\n",
      "ε = 0.125: nombre moyen de jeux de l'action optimale = 915.00 ± 0.00\n",
      "ε = 0.25: nombre moyen de jeux de l'action optimale = 814.00 ± 0.00\n",
      "ε = 0.5: nombre moyen de jeux de l'action optimale = 639.00 ± 0.00\n",
      "ε = 1: nombre moyen de jeux de l'action optimale = 325.00 ± 0.00\n"
     ]
    },
    {
     "data": {
      "image/png": "[encoded data removed]",
      "text/plain": [
       "<Figure size 1000x600 with 1 Axes>"
      ]
     },
     "metadata": {},
     "output_type": "display_data"
    }
   ],
   "source": [
    "# Initialisation de l'instance de la classe BernoulliBandit\n",
    "probabilities = numpy.array([0.7, 0.6, 0.5]) # probabilités des actions\n",
    "bandit = BernoulliBandit(probabilities) # initialisation du bandit selon la distribution de Bernoulli\n",
    "epsilons = [0, 1/8, 1/4, 1/2, 1] # valeurs de epsilon à tester\n",
    "N = 100 # nombre de réalisations\n",
    "T = 1000 # horizon temporel\n",
    "\n",
    "N_pseudo_regrets = numpy.zeros([N, T]) # initialisation des pseudo-regrets cumulatifs de chaque réalisation\n",
    "regret_moyen_epsilons = [] # pseudo-regret cumulatif moyen pour chaque valeur de epsilon\n",
    "ecart_type_epsilons = []  # écart-type du pseudo-regret cumulatif moyen pour chaque valeur de epsilon\n",
    "jeux_action_optimale = [] # nombre de fois où l'action optimale a été jouée en moyenne pour chaque valeur de epsilon\n",
    "\n",
    "for epsilon in epsilons: # boucle sur les valeurs de epsilon\n",
    "    nb_action_optim = [] # nombre de fois où l'action optimale a été jouée pour chaque réalisation\n",
    "    for i in range(N): # boucle sur les réalisations\n",
    "        Na_t, Sa_t, pseudo_regret_cumul = egreedy(bandit, T, epsilon) # réalisation i\n",
    "        N_pseudo_regrets[i, :] = pseudo_regret_cumul # sauvegarde du pseudo-regret cumulatif de la réalisation i\n",
    "        nb_action_optim.append(Na_t[numpy.argmax(probabilities)]) # sauvegarde du nombre de fois où l'action optimale a été jouée pour la réalisation i\n",
    "\n",
    "    nb_action_optim_moyen = numpy.mean(nb_action_optim) # nombre moyen de fois où l'action optimale a été jouée pour epsilon\n",
    "    ecart_type_action_optim = numpy.std(nb_action_optim) # écart-type du nombre de fois où l'action optimale a été jouée pour epsilon\n",
    "    jeux_action_optimale.append((nb_action_optim_moyen, ecart_type_action_optim)) # sauvegarde du nombre moyen de fois où l'action optimale a été jouée pour epsilon\n",
    "    \n",
    "    pseudo_regret_moyen = numpy.mean(N_pseudo_regrets, axis=0) # pseudo-regret cumulatif moyen pour epsilon\n",
    "    regret_moyen_epsilons.append(pseudo_regret_moyen) # sauvegarde du pseudo-regret cumulatif moyen pour epsilon\n",
    "    ecart_type_epsilon = numpy.std(N_pseudo_regrets, axis=0)  # écart-type du pseudo-regret cumulatif moyen pour epsilon\n",
    "    ecart_type_epsilons.append(ecart_type_epsilon) # sauvegarde de l'écart-type du pseudo-regret cumulatif moyen pour epsilon\n",
    "\n",
    "# Figure pseudo-regret cumulatif moyen pour chaque valeur de epsilon\n",
    "plt.figure(figsize=(10, 6))\n",
    "for i, epsilon in enumerate(epsilons):\n",
    "    plt.plot(regret_moyen_epsilons[i], label=f'ε = {epsilon}')\n",
    "    plt.fill_between(numpy.arange(T), regret_moyen_epsilons[i], regret_moyen_epsilons[i] + ecart_type_epsilons[i], alpha=0.2)\n",
    "    print(f'ε = {epsilon}: nombre moyen de jeux de l\\'action optimale = {jeux_action_optimale[i][0]:.2f} ± {jeux_action_optimale[i][1]:.2f}')\n",
    "plt.xlabel('Horizon temporel T')\n",
    "plt.ylabel('Pseudo-regret cumulatif moyen')\n",
    "plt.legend()\n",
    "plt.show()"
   ]
  },
  {
   "attachments": {},
   "cell_type": "markdown",
   "metadata": {},
   "source": [
    "Expliquez les différences observées entre les courbes. Expliquez les nombres de tirages de l'action optimale en référant aux bornes inférieures sur le pseudo-regret cumulatif de la stratégie $\\varepsilon$-greedy pour les configurations $\\varepsilon = 0$ et $\\varepsilon = 1$."
   ]
  },
  {
   "attachments": {},
   "cell_type": "markdown",
   "metadata": {},
   "source": []
  },
  {
   "attachments": {},
   "cell_type": "markdown",
   "metadata": {},
   "source": [
    "### [10 points] UCB"
   ]
  },
  {
   "attachments": {},
   "cell_type": "markdown",
   "metadata": {},
   "source": [
    "Complétez le code suivant pour implémenter la stratégie UCB1 (Auer et al., 2002). Votre fonction doit recevoir en entrée l'instance de bandit à aborder ainsi que la durée de l'horizon de temps $T$."
   ]
  },
  {
   "cell_type": "code",
   "execution_count": 21,
   "metadata": {},
   "outputs": [],
   "source": [
    "def ucb1(bandit, T):\n",
    "    probabilities = bandit.probabilities # probabilités de succès des actions\n",
    "    K = len(probabilities) # nombre d'actions\n",
    "    \n",
    "    a_optim = numpy.argmax(probabilities) # action optimale\n",
    "    deltas = probabilities[a_optim] - probabilities # Gaps de sous-optimalité\n",
    "    \n",
    "    pseudo_regret_cumulatif = [] # pseudo-regret cumulatif\n",
    "    Na_t = numpy.zeros(K) # nombre de fois où chaque action a été jouée\n",
    "    Sa_t = numpy.zeros(K) # Somme des récompenses obtenues pour chaque action\n",
    "    \n",
    "    # Jouer chaque action une fois\n",
    "    for t in range(T):\n",
    "        if t < K:\n",
    "            Na_t[t] += 1\n",
    "            reward = bandit.play(t)\n",
    "            Sa_t[t] += reward\n",
    "            # calcul du pseudo-regret cumulatif\n",
    "            pseudo_regret_t = numpy.dot(deltas.T, Na_t)\n",
    "            pseudo_regret_cumulatif.append(pseudo_regret_t)\n",
    "        else:\n",
    "            action = numpy.argmax(Sa_t / Na_t + numpy.sqrt(numpy.log(t**4) / (2 *Na_t))) # choisir l'action avec l'indice de confiance le plus élevé\n",
    "            \n",
    "            # Jouer l'action choisie\n",
    "            Na_t[action] += 1\n",
    "            reward = bandit.play(action)\n",
    "            Sa_t[action] += reward\n",
    "            \n",
    "            # calcul du pseudo-regret cumulatif\n",
    "            pseudo_regret_t = numpy.dot(deltas.T, Na_t)\n",
    "            pseudo_regret_cumulatif.append(pseudo_regret_t)\n",
    "        \n",
    "    pseudo_regret_cumulatif = numpy.array(pseudo_regret_cumulatif) # convertir la liste en array numpy pour faciliter le moyennage\n",
    "    return Na_t, Sa_t, pseudo_regret_cumulatif\n",
    "    "
   ]
  },
  {
   "attachments": {},
   "cell_type": "markdown",
   "metadata": {},
   "source": [
    "Considérez l'instance de bandits $\\boldsymbol \\mu = (0.7, 0.6, 0.5)$ avec récompenses générées par des distributions de Bernoulli. Appliquez la stratégie UCB1 sur $N=100$ réalisations de cette instance sur un horizon temporel $T = 1000$.\n",
    "\n",
    "Présentez une figure montrant le pseudo-regret cumulatif moyenné sur les réalisations, avec un écart-type au-dessus."
   ]
  },
  {
   "cell_type": "code",
   "execution_count": 22,
   "metadata": {},
   "outputs": [
    {
     "data": {
      "image/png": "[encoded data removed]",
      "text/plain": [
       "<Figure size 1000x600 with 1 Axes>"
      ]
     },
     "metadata": {},
     "output_type": "display_data"
    }
   ],
   "source": [
    "probabilities = numpy.array([0.7, 0.6, 0.5]) # probabilités des actions\n",
    "bandit = BernoulliBandit(probabilities) # initialisation du bandit selon la distribution de Bernoulli\n",
    "\n",
    "T = 1000 # horizon temporel\n",
    "N = 100 # nombre de réalisations\n",
    "\n",
    "pseudo_regrets = numpy.zeros([N, T]) # initialisation des pseudo-regrets cumulatifs de chaque réalisation\n",
    "ecart_type_regrets = [] # écart-type du pseudo-regret cumulatif moyen\n",
    "\n",
    "for i in range(N): # boucle sur les réalisations\n",
    "    Na_t, Sa_t, pseudo_regret_cumulatif = ucb1(bandit, T) # réalisation i\n",
    "    pseudo_regrets[i, :] = pseudo_regret_cumulatif # sauvegarde du pseudo-regret cumulatif de la réalisation i\n",
    "\n",
    "pseudo_regrets_moyens = numpy.mean(pseudo_regrets, axis=0) # pseudo-regret cumulatif moyen\n",
    "ecart_type_regrets = numpy.std(pseudo_regrets, axis=0) # écart-type du pseudo-regret cumulatif moyen\n",
    "\n",
    "# Figure pseudo-regret cumulatif moyen\n",
    "plt.figure(figsize=(10, 6))\n",
    "plt.plot(pseudo_regrets_moyens)\n",
    "plt.fill_between(numpy.arange(T), pseudo_regrets_moyens, pseudo_regrets_moyens + ecart_type_regrets, alpha=0.2)\n",
    "plt.xlabel('Horizon temporel T')\n",
    "plt.ylabel('Pseudo-regret cumulatif moyen')\n",
    "plt.show()"
   ]
  },
  {
   "attachments": {},
   "cell_type": "markdown",
   "metadata": {},
   "source": [
    "Expliquez la forme de la courbe obtenue."
   ]
  },
  {
   "attachments": {},
   "cell_type": "markdown",
   "metadata": {},
   "source": []
  },
  {
   "attachments": {},
   "cell_type": "markdown",
   "metadata": {},
   "source": [
    "### [10 points] Thompson Sampling (TS)"
   ]
  },
  {
   "attachments": {},
   "cell_type": "markdown",
   "metadata": {},
   "source": [
    "Complétez le code suivant pour implémenter la stratégie TS destinée à des bandits stochastiques dont les récompenses suivent des distributions normales de variance connue $\\sigma^2$. Votre fonction doit recevoir en entrée l'instance de bandit à aborder, la durée de l'horizon de temps $T$, la valeur des paramètres a priori ($\\mu_0$ et $\\sigma_0$), ainsi que la variance des observations ($\\sigma^2$)."
   ]
  },
  {
   "cell_type": "code",
   "execution_count": 13,
   "metadata": {},
   "outputs": [],
   "source": [
    "def ts_normal(bandit, T, mu_0, sigma_0, sigma):\n",
    "    # compléter\n",
    "    pass"
   ]
  },
  {
   "attachments": {},
   "cell_type": "markdown",
   "metadata": {},
   "source": [
    "Considérez la classe d'environnements à 10 actions dont les récompenses suivent des distributions normales de variance $\\sigma^2 = 1$ et dont les configurations sont telles que $\\mu_a \\sim \\mathcal N(2, 1)$. Appliquez la stratégie TS à 100 instances de cette classe (une réalisation par instance) sur un horizon temporel $T = 1000$.\n",
    "\n",
    "Présentez une figure montrant le pseudo-regret cumulatif moyenné sur les réalisations, avec un écart-type au-dessus."
   ]
  },
  {
   "cell_type": "code",
   "execution_count": null,
   "metadata": {},
   "outputs": [],
   "source": []
  },
  {
   "attachments": {},
   "cell_type": "markdown",
   "metadata": {},
   "source": [
    "Justifiez le choix des paramètres a priori utilisés dans votre expérience."
   ]
  },
  {
   "attachments": {},
   "cell_type": "markdown",
   "metadata": {},
   "source": []
  },
  {
   "attachments": {},
   "cell_type": "markdown",
   "metadata": {},
   "source": [
    "### [10 points] Apprentissage par le gradient de la politique"
   ]
  },
  {
   "attachments": {},
   "cell_type": "markdown",
   "metadata": {},
   "source": [
    "Complétez le code suivant pour implémenter la stratégie d'apprentissage par gradient de la politique avec _baseline_ $B_t$ correspondant à la moyenne des récompenses observées jusqu'au temps $t-1$. Votre fonction doit recevoir en entrée l'instance de bandit à aborder, la durée de l'horizon de temps $T$, ainsi que le taux d'apprentissage $\\alpha > 0$."
   ]
  },
  {
   "cell_type": "code",
   "execution_count": 14,
   "metadata": {},
   "outputs": [],
   "source": [
    "def policy_gradient(bandit, T, alpha):\n",
    "    # compléter\n",
    "    pass"
   ]
  },
  {
   "attachments": {},
   "cell_type": "markdown",
   "metadata": {},
   "source": [
    "Considérez la classe d'environnements à 10 actions dont les récompenses suivent des distributions normales de variance $\\sigma^2 = 1$ et dont les configurations sont telles que $\\mu_a \\sim \\mathcal N(0, 1)$. Appliquez la stratégie d'apprentissage par gradient de politique à 100 instances de cette classe (une réalisation par instance) sur un horizon temporel $T = 2000$ avec différentes valeurs de taux d'apprentissage $\\alpha \\in \\{ 1/50, 1/10, 1/2 \\}$.\n",
    "\n",
    "Présentez une figure montrant le pseudo-regret cumulatif moyenné sur les réalisations, avec un écart-type au-dessus, pour chaque configuration de la stratégie."
   ]
  },
  {
   "cell_type": "code",
   "execution_count": null,
   "metadata": {},
   "outputs": [],
   "source": []
  },
  {
   "attachments": {},
   "cell_type": "markdown",
   "metadata": {},
   "source": [
    "Discutez de l'impact du taux d'apprentissage en vous appuyant sur les résultats obtenus. Expliquez notamment la forme des courbes en référant au compromis entre l'exploration et l'exploitation."
   ]
  },
  {
   "attachments": {},
   "cell_type": "markdown",
   "metadata": {},
   "source": []
  },
  {
   "attachments": {},
   "cell_type": "markdown",
   "metadata": {},
   "source": [
    "## Les bandits stochastiques contextuels"
   ]
  },
  {
   "attachments": {},
   "cell_type": "markdown",
   "metadata": {},
   "source": [
    "### [10 points] Les environnements de bandits stochastiques linéaires"
   ]
  },
  {
   "attachments": {},
   "cell_type": "markdown",
   "metadata": {},
   "source": [
    "Vous travaillez dans une entreprise comprenant différents systèmes qui mériteraient d'être optimisés. Vous aimeriez investiguer le potentiel des stratégies de bandits stochastiques linéaires pour aborder la tâche d'ajustement des paramètres d'un système de manière à maximiser sa performance.\n",
    "\n",
    "Complétez le code suivant pour implémenter un simulateur générique permettant de réaliser des expériences sur des problèmes de bandits stochastiques linéaires adaptés à cette application. Considérez que chaque récompense $R_t$ est générée en appliquant un bruit $\\eta_t \\sim \\mathcal N(0, \\sigma^2)$ à la fonction de performance évaluée à l'action $A_t$. Votre classe doit recevoir en entrée la fonction de caractéristiques à utiliser, le paramètre $\\omega_\\star$ gouvernant la fonction de récompense, la variance du bruit $\\sigma^2$, la liste des actions discrètres considérées ($x_1, x_2, \\dots, x_k$), ainsi qu'un germe aléatoire permettant de fixer la réalisation de l'instance. La fonction _play_ doit échantillonner et retourner une récompense pour l'action d'indice donné."
   ]
  },
  {
   "cell_type": "code",
   "execution_count": 15,
   "metadata": {},
   "outputs": [],
   "source": [
    "class LinGaussianBandit:\n",
    "    def __init__(self, phi, omega, noise_variance, action_space, seed=None):\n",
    "        # compléter\n",
    "        pass\n",
    "    \n",
    "    def play(self, action):\n",
    "        # compléter\n",
    "        pass"
   ]
  },
  {
   "attachments": {},
   "cell_type": "markdown",
   "metadata": {},
   "source": [
    "Considérez une instance spécifique de cet environnement caractérisée par une variance du bruit $\\sigma^2 = 0.01$, un espace d'action $\\mathcal X$ fini et discret correspondant à 100 valeurs régulièrement espacées sur l'intervalle $[0, 1]$, la fonction de caractéristique $\\varphi(x) = (1, x, x^2, x^3, x^4, x^5, x^6, x^7)$, ainsi que le paramètre $\\omega_\\star$ suivant : "
   ]
  },
  {
   "cell_type": "code",
   "execution_count": 16,
   "metadata": {},
   "outputs": [],
   "source": [
    "omega = numpy.array([0.41218989, 0.51717332, 0.40751546, 0.03405839, -0.29501341, -0.53931605, -0.07674824, -0.10778418])"
   ]
  },
  {
   "attachments": {},
   "cell_type": "markdown",
   "metadata": {},
   "source": [
    "Pour montrer que votre environnement fonctionne, présentez une réalisation de cette instance pour 50 actions sélectionnées aléatoirement sur $\\mathcal X$. Votre figure devrait contenir la fonction de récompense attendue en plus des récompenses échantillonnées."
   ]
  },
  {
   "cell_type": "code",
   "execution_count": null,
   "metadata": {},
   "outputs": [],
   "source": []
  },
  {
   "attachments": {},
   "cell_type": "markdown",
   "metadata": {},
   "source": [
    "À quoi pourrait correspondre le bruit dans cette application?"
   ]
  },
  {
   "attachments": {},
   "cell_type": "markdown",
   "metadata": {},
   "source": []
  },
  {
   "attachments": {},
   "cell_type": "markdown",
   "metadata": {},
   "source": [
    "### [15 points] OFUL"
   ]
  },
  {
   "attachments": {},
   "cell_type": "markdown",
   "metadata": {},
   "source": [
    "Complétez le code suivant pour implémenter la stratégie OFUL adaptée au type d'environnement décrit précédemment. Votre fonction doit recevoir en entrée l'instance de bandits stochastiques linéaires à aborder, la durée de l'horizon de temps $T$, le paramètre de régularisation $\\lambda$, la variance du bruit $\\sigma^2$, ainsi que la norme $\\lVert \\omega_\\star \\rVert_2$. Considérez que la première action effectuée ($A_1$) est choisie aléatoirement uniformément sur l'espace des actions et utilisez un niveau de confiance $\\delta = 1/t$."
   ]
  },
  {
   "cell_type": "code",
   "execution_count": 17,
   "metadata": {},
   "outputs": [],
   "source": [
    "def oful(bandit, T, regularization, noise_variance, norm_function):\n",
    "    # compléter\n",
    "    pass"
   ]
  },
  {
   "attachments": {},
   "cell_type": "markdown",
   "metadata": {},
   "source": [
    "Comment se traduit le niveau de confiance $\\delta$ considéré sur les intervalles de confiance considérés?"
   ]
  },
  {
   "attachments": {},
   "cell_type": "markdown",
   "metadata": {},
   "source": []
  },
  {
   "attachments": {},
   "cell_type": "markdown",
   "metadata": {},
   "source": [
    "Appliquez la stratégie OFUL sur $N=100$ réalisations de l'instance de bandits stochastiques linéaires décrite précédemment, sur un horizon temporel $T = 1000$ en supposant que la variance du bruit $\\sigma^2$ et la norme $\\lVert \\omega_\\star \\rVert_2$ sont des informations connues. Investiguez l'impact de la régularisation en considérant $\\lambda \\in \\{ 0.001, 0.01, 0.1, 1 \\}$.\n",
    "\n",
    "Présentez vos résultats sous la forme de figures montrant le pseudo-regret cumulatif moyenné sur les réalisations, avec un écart-type au-dessus."
   ]
  },
  {
   "cell_type": "code",
   "execution_count": null,
   "metadata": {},
   "outputs": [],
   "source": []
  },
  {
   "attachments": {},
   "cell_type": "markdown",
   "metadata": {},
   "source": [
    "Expliquez les résultats obtenus."
   ]
  },
  {
   "attachments": {},
   "cell_type": "markdown",
   "metadata": {},
   "source": []
  },
  {
   "attachments": {},
   "cell_type": "markdown",
   "metadata": {},
   "source": [
    "__[IFT-7201]__ En pratique, il peut arriver que la variance du bruit soit inconnue, donc qu'une estimation soit utilisée. Expliquez quel sera l'impact sur l'exploration et l'exploitation si la variance du bruit est sous/sur-estimée."
   ]
  },
  {
   "cell_type": "code",
   "execution_count": null,
   "metadata": {},
   "outputs": [],
   "source": []
  },
  {
   "attachments": {},
   "cell_type": "markdown",
   "metadata": {},
   "source": [
    "### [15 points] TS pour bandits stochastiques linéaires"
   ]
  },
  {
   "attachments": {},
   "cell_type": "markdown",
   "metadata": {},
   "source": [
    "Complétez le code suivant pour implémenter une stratégie TS linéaire adaptée au type d'environnement décrit précédemment. Votre fonction doit recevoir en entrée l'instance de bandits stochastiques linéaires à aborder, la durée de l'horizon de temps $T$, le paramètre de régularisation $\\lambda$, ainsi que la variance du bruit $\\sigma^2$. Considérez que la première action effectuée ($A_1$) est choisie aléatoirement uniformément sur l'espace des actions."
   ]
  },
  {
   "cell_type": "code",
   "execution_count": 18,
   "metadata": {},
   "outputs": [],
   "source": [
    "def lints(bandit, T, regularization, noise_variance):\n",
    "    # compléter\n",
    "    pass"
   ]
  },
  {
   "attachments": {},
   "cell_type": "markdown",
   "metadata": {},
   "source": [
    "Appliquez la stratégie LinTS sur $N=100$ réalisations de l'instance de bandits décrite précédemment, sur un horizon temporel $T = 1000$ en supposant que la variance du bruit est connue. Investiguez l'impact de la régularisation en considérant $\\lambda \\in \\{ 0.001, 0.01, 0.1, 1 \\}$.\n",
    "\n",
    "Présentez vos résultats sous la forme de figures montrant le pseudo-regret cumulatif moyenné sur les réalisations, avec un écart-type au-dessus."
   ]
  },
  {
   "cell_type": "code",
   "execution_count": null,
   "metadata": {},
   "outputs": [],
   "source": []
  },
  {
   "attachments": {},
   "cell_type": "markdown",
   "metadata": {},
   "source": [
    "Discutez des résultats obtenus en comparaison avec les résultats obtenus en utilisant la stratégie OFUL."
   ]
  },
  {
   "attachments": {},
   "cell_type": "markdown",
   "metadata": {},
   "source": []
  }
 ],
 "metadata": {
  "kernelspec": {
   "display_name": ".venv",
   "language": "python",
   "name": "python3"
  },
  "language_info": {
   "codemirror_mode": {
    "name": "ipython",
    "version": 3
   },
   "file_extension": ".py",
   "mimetype": "text/x-python",
   "name": "python",
   "nbconvert_exporter": "python",
   "pygments_lexer": "ipython3",
   "version": "3.13.0"
  }
 },
 "nbformat": 4,
 "nbformat_minor": 4
}
